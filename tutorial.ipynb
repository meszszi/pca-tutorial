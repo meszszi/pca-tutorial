{
 "cells": [
  {
   "cell_type": "markdown",
   "metadata": {},
   "source": [
    "## PCA \n",
    "### Principal Component Analysis\n",
    "#### Analiza głównych składowych\n",
    "\n",
    "<img src=\"pca.png\" alt=\"Drawing\" style=\"width: 7in; whight: 7in;\"/>\n",
    "\n",
    "\n",
    "## KPCA\n",
    "### Kernel Principal Component Analysis\n",
    "\n",
    "![kpca](kpca.png)\n",
    "\n",
    "## Klasteryzacja i klasyfikacja\n",
    "\n",
    "![clustering_and_classification](clustering_and_classification.png)\n",
    "\n",
    "## K Nearest Neighbours\n",
    "\n",
    "![knn](knn.png)\n",
    "\n",
    "\n"
   ]
  },
  {
   "cell_type": "code",
   "execution_count": 1,
   "metadata": {},
   "outputs": [],
   "source": [
    "import pandas as pd\n",
    "import numpy as np\n",
    "import matplotlib.pyplot as plt\n",
    "import warnings\n",
    "from mpl_toolkits import mplot3d\n",
    "from sklearn.decomposition import PCA, KernelPCA\n",
    "from sklearn.preprocessing import StandardScaler\n",
    "from sklearn.neighbors import NearestNeighbors"
   ]
  },
  {
   "cell_type": "markdown",
   "metadata": {},
   "source": [
    "Data source:\n",
    "\n",
    "https://archive.ics.uci.edu/ml/machine-learning-databases/iris/iris.data\n",
    "\n",
    "Dataset description:\n",
    "\n",
    "https://archive.ics.uci.edu/ml/machine-learning-databases/iris/iris.names"
   ]
  },
  {
   "cell_type": "markdown",
   "metadata": {},
   "source": [
    "![irises](irises.jpg)"
   ]
  },
  {
   "cell_type": "code",
   "execution_count": 4,
   "metadata": {},
   "outputs": [
    {
     "name": "stdout",
     "output_type": "stream",
     "text": [
      "(150, 5)\n"
     ]
    },
    {
     "data": {
      "text/html": [
       "<div>\n",
       "<style scoped>\n",
       "    .dataframe tbody tr th:only-of-type {\n",
       "        vertical-align: middle;\n",
       "    }\n",
       "\n",
       "    .dataframe tbody tr th {\n",
       "        vertical-align: top;\n",
       "    }\n",
       "\n",
       "    .dataframe thead th {\n",
       "        text-align: right;\n",
       "    }\n",
       "</style>\n",
       "<table border=\"1\" class=\"dataframe\">\n",
       "  <thead>\n",
       "    <tr style=\"text-align: right;\">\n",
       "      <th></th>\n",
       "      <th>sepal length</th>\n",
       "      <th>sepal width</th>\n",
       "      <th>petal length</th>\n",
       "      <th>petal width</th>\n",
       "      <th>class</th>\n",
       "    </tr>\n",
       "  </thead>\n",
       "  <tbody>\n",
       "    <tr>\n",
       "      <th>0</th>\n",
       "      <td>5.1</td>\n",
       "      <td>3.5</td>\n",
       "      <td>1.4</td>\n",
       "      <td>0.2</td>\n",
       "      <td>Iris-setosa</td>\n",
       "    </tr>\n",
       "    <tr>\n",
       "      <th>1</th>\n",
       "      <td>4.9</td>\n",
       "      <td>3.0</td>\n",
       "      <td>1.4</td>\n",
       "      <td>0.2</td>\n",
       "      <td>Iris-setosa</td>\n",
       "    </tr>\n",
       "    <tr>\n",
       "      <th>2</th>\n",
       "      <td>4.7</td>\n",
       "      <td>3.2</td>\n",
       "      <td>1.3</td>\n",
       "      <td>0.2</td>\n",
       "      <td>Iris-setosa</td>\n",
       "    </tr>\n",
       "    <tr>\n",
       "      <th>3</th>\n",
       "      <td>4.6</td>\n",
       "      <td>3.1</td>\n",
       "      <td>1.5</td>\n",
       "      <td>0.2</td>\n",
       "      <td>Iris-setosa</td>\n",
       "    </tr>\n",
       "    <tr>\n",
       "      <th>4</th>\n",
       "      <td>5.0</td>\n",
       "      <td>3.6</td>\n",
       "      <td>1.4</td>\n",
       "      <td>0.2</td>\n",
       "      <td>Iris-setosa</td>\n",
       "    </tr>\n",
       "  </tbody>\n",
       "</table>\n",
       "</div>"
      ],
      "text/plain": [
       "   sepal length  sepal width  petal length  petal width        class\n",
       "0           5.1          3.5           1.4          0.2  Iris-setosa\n",
       "1           4.9          3.0           1.4          0.2  Iris-setosa\n",
       "2           4.7          3.2           1.3          0.2  Iris-setosa\n",
       "3           4.6          3.1           1.5          0.2  Iris-setosa\n",
       "4           5.0          3.6           1.4          0.2  Iris-setosa"
      ]
     },
     "execution_count": 4,
     "metadata": {},
     "output_type": "execute_result"
    }
   ],
   "source": [
    "names = ['sepal length', 'sepal width', 'petal length', 'petal width', 'class']\n",
    "df = pd.read_csv('iris.csv', names=names)\n",
    "print(df.shape)\n",
    "df.head()"
   ]
  },
  {
   "cell_type": "code",
   "execution_count": 5,
   "metadata": {},
   "outputs": [
    {
     "data": {
      "text/html": [
       "<div>\n",
       "<style scoped>\n",
       "    .dataframe tbody tr th:only-of-type {\n",
       "        vertical-align: middle;\n",
       "    }\n",
       "\n",
       "    .dataframe tbody tr th {\n",
       "        vertical-align: top;\n",
       "    }\n",
       "\n",
       "    .dataframe thead th {\n",
       "        text-align: right;\n",
       "    }\n",
       "</style>\n",
       "<table border=\"1\" class=\"dataframe\">\n",
       "  <thead>\n",
       "    <tr style=\"text-align: right;\">\n",
       "      <th></th>\n",
       "      <th>sepal length</th>\n",
       "      <th>sepal width</th>\n",
       "      <th>petal length</th>\n",
       "      <th>petal width</th>\n",
       "    </tr>\n",
       "  </thead>\n",
       "  <tbody>\n",
       "    <tr>\n",
       "      <th>0</th>\n",
       "      <td>5.1</td>\n",
       "      <td>3.5</td>\n",
       "      <td>1.4</td>\n",
       "      <td>0.2</td>\n",
       "    </tr>\n",
       "    <tr>\n",
       "      <th>1</th>\n",
       "      <td>4.9</td>\n",
       "      <td>3.0</td>\n",
       "      <td>1.4</td>\n",
       "      <td>0.2</td>\n",
       "    </tr>\n",
       "    <tr>\n",
       "      <th>2</th>\n",
       "      <td>4.7</td>\n",
       "      <td>3.2</td>\n",
       "      <td>1.3</td>\n",
       "      <td>0.2</td>\n",
       "    </tr>\n",
       "    <tr>\n",
       "      <th>3</th>\n",
       "      <td>4.6</td>\n",
       "      <td>3.1</td>\n",
       "      <td>1.5</td>\n",
       "      <td>0.2</td>\n",
       "    </tr>\n",
       "    <tr>\n",
       "      <th>4</th>\n",
       "      <td>5.0</td>\n",
       "      <td>3.6</td>\n",
       "      <td>1.4</td>\n",
       "      <td>0.2</td>\n",
       "    </tr>\n",
       "  </tbody>\n",
       "</table>\n",
       "</div>"
      ],
      "text/plain": [
       "   sepal length  sepal width  petal length  petal width\n",
       "0           5.1          3.5           1.4          0.2\n",
       "1           4.9          3.0           1.4          0.2\n",
       "2           4.7          3.2           1.3          0.2\n",
       "3           4.6          3.1           1.5          0.2\n",
       "4           5.0          3.6           1.4          0.2"
      ]
     },
     "execution_count": 5,
     "metadata": {},
     "output_type": "execute_result"
    }
   ],
   "source": [
    "data = df.iloc[:, :4] # extracting all rows, first 4 columns (skipping 'class' column)\n",
    "data.head()"
   ]
  },
  {
   "cell_type": "code",
   "execution_count": 7,
   "metadata": {},
   "outputs": [],
   "source": [
    "def perform_pca(data, number_of_components, scale=True):\n",
    "    \n",
    "    if scale:\n",
    "        scaler = StandardScaler()\n",
    "        data = scaler.fit_transform(data)\n",
    "\n",
    "    pca = PCA(n_components=number_of_components)\n",
    "    components = pca.fit_transform(data)\n",
    "    components_dataframe = pd.DataFrame(data=components)\n",
    "    \n",
    "    return components_dataframe, pca\n",
    "\n",
    "def plot_pca(components, dims, plot_kwargs={}):\n",
    "\n",
    "    if dims == 2:\n",
    "        plt.scatter(components[0], components[1], **plot_kwargs)\n",
    "        plt.xlabel(\"PC 1\")\n",
    "        plt.ylabel(\"PC 2\")  \n",
    "        plt.show()\n",
    "    \n",
    "    elif dims == 3:\n",
    "        ax = plt.axes(projection='3d')\n",
    "        ax.scatter3D(components[0], components[1], components[2], **plot_kwargs);\n",
    "        ax.set_xlabel('PC 1')\n",
    "        ax.set_ylabel('PC 2')\n",
    "        ax.set_zlabel('PC 3')\n",
    "        plt.show()"
   ]
  },
  {
   "cell_type": "code",
   "execution_count": 8,
   "metadata": {},
   "outputs": [
    {
     "name": "stdout",
     "output_type": "stream",
     "text": [
      "(150, 4)\n"
     ]
    },
    {
     "data": {
      "text/html": [
       "<div>\n",
       "<style scoped>\n",
       "    .dataframe tbody tr th:only-of-type {\n",
       "        vertical-align: middle;\n",
       "    }\n",
       "\n",
       "    .dataframe tbody tr th {\n",
       "        vertical-align: top;\n",
       "    }\n",
       "\n",
       "    .dataframe thead th {\n",
       "        text-align: right;\n",
       "    }\n",
       "</style>\n",
       "<table border=\"1\" class=\"dataframe\">\n",
       "  <thead>\n",
       "    <tr style=\"text-align: right;\">\n",
       "      <th></th>\n",
       "      <th>0</th>\n",
       "      <th>1</th>\n",
       "      <th>2</th>\n",
       "      <th>3</th>\n",
       "    </tr>\n",
       "  </thead>\n",
       "  <tbody>\n",
       "    <tr>\n",
       "      <th>0</th>\n",
       "      <td>-2.264542</td>\n",
       "      <td>0.505704</td>\n",
       "      <td>-0.121943</td>\n",
       "      <td>-0.023073</td>\n",
       "    </tr>\n",
       "    <tr>\n",
       "      <th>1</th>\n",
       "      <td>-2.086426</td>\n",
       "      <td>-0.655405</td>\n",
       "      <td>-0.227251</td>\n",
       "      <td>-0.103208</td>\n",
       "    </tr>\n",
       "    <tr>\n",
       "      <th>2</th>\n",
       "      <td>-2.367950</td>\n",
       "      <td>-0.318477</td>\n",
       "      <td>0.051480</td>\n",
       "      <td>-0.027825</td>\n",
       "    </tr>\n",
       "    <tr>\n",
       "      <th>3</th>\n",
       "      <td>-2.304197</td>\n",
       "      <td>-0.575368</td>\n",
       "      <td>0.098860</td>\n",
       "      <td>0.066311</td>\n",
       "    </tr>\n",
       "    <tr>\n",
       "      <th>4</th>\n",
       "      <td>-2.388777</td>\n",
       "      <td>0.674767</td>\n",
       "      <td>0.021428</td>\n",
       "      <td>0.037397</td>\n",
       "    </tr>\n",
       "  </tbody>\n",
       "</table>\n",
       "</div>"
      ],
      "text/plain": [
       "          0         1         2         3\n",
       "0 -2.264542  0.505704 -0.121943 -0.023073\n",
       "1 -2.086426 -0.655405 -0.227251 -0.103208\n",
       "2 -2.367950 -0.318477  0.051480 -0.027825\n",
       "3 -2.304197 -0.575368  0.098860  0.066311\n",
       "4 -2.388777  0.674767  0.021428  0.037397"
      ]
     },
     "execution_count": 8,
     "metadata": {},
     "output_type": "execute_result"
    }
   ],
   "source": [
    "pca_components, pca = perform_pca(data, number_of_components=None)\n",
    "print(pca_components.shape)\n",
    "pca_components.head()"
   ]
  },
  {
   "cell_type": "code",
   "execution_count": 9,
   "metadata": {},
   "outputs": [
    {
     "data": {
      "image/png": "[encoded data removed]",
      "text/plain": [
       "<Figure size 432x288 with 1 Axes>"
      ]
     },
     "metadata": {},
     "output_type": "display_data"
    }
   ],
   "source": [
    "# %matplotlib notebook\n",
    "colors_dict = {\n",
    "    'Iris-setosa': 'red',\n",
    "    'Iris-versicolor': 'blue',\n",
    "    'Iris-virginica': 'yellow'\n",
    "}\n",
    "\n",
    "colors = [colors_dict[c] for c in df['class']]\n",
    "\n",
    "plot_setting = {\n",
    "    's': 12,\n",
    "    'c': colors\n",
    "}\n",
    "plot_pca(components=pca_components, dims=2, plot_kwargs=plot_setting)"
   ]
  },
  {
   "cell_type": "code",
   "execution_count": 10,
   "metadata": {},
   "outputs": [],
   "source": [
    "def perform_kernel_pca(data, number_of_components):\n",
    "    \n",
    "    scaler = StandardScaler()\n",
    "    with warnings.catch_warnings(record=True):\n",
    "        scaled_data = scaler.fit_transform(data)\n",
    "\n",
    "    kpca = KernelPCA(kernel=\"rbf\", n_components=number_of_components)\n",
    "    components = kpca.fit_transform(scaled_data)\n",
    "    components_dataframe = pd.DataFrame(data=components)\n",
    "    \n",
    "    return components_dataframe, kpca"
   ]
  },
  {
   "cell_type": "code",
   "execution_count": 11,
   "metadata": {},
   "outputs": [
    {
     "name": "stdout",
     "output_type": "stream",
     "text": [
      "(150, 6)\n"
     ]
    },
    {
     "data": {
      "text/html": [
       "<div>\n",
       "<style scoped>\n",
       "    .dataframe tbody tr th:only-of-type {\n",
       "        vertical-align: middle;\n",
       "    }\n",
       "\n",
       "    .dataframe tbody tr th {\n",
       "        vertical-align: top;\n",
       "    }\n",
       "\n",
       "    .dataframe thead th {\n",
       "        text-align: right;\n",
       "    }\n",
       "</style>\n",
       "<table border=\"1\" class=\"dataframe\">\n",
       "  <thead>\n",
       "    <tr style=\"text-align: right;\">\n",
       "      <th></th>\n",
       "      <th>0</th>\n",
       "      <th>1</th>\n",
       "      <th>2</th>\n",
       "      <th>3</th>\n",
       "      <th>4</th>\n",
       "      <th>5</th>\n",
       "    </tr>\n",
       "  </thead>\n",
       "  <tbody>\n",
       "    <tr>\n",
       "      <th>0</th>\n",
       "      <td>-0.798968</td>\n",
       "      <td>-0.099666</td>\n",
       "      <td>0.174948</td>\n",
       "      <td>0.051330</td>\n",
       "      <td>0.070914</td>\n",
       "      <td>-0.037973</td>\n",
       "    </tr>\n",
       "    <tr>\n",
       "      <th>1</th>\n",
       "      <td>-0.674393</td>\n",
       "      <td>0.104370</td>\n",
       "      <td>-0.435307</td>\n",
       "      <td>0.181854</td>\n",
       "      <td>0.027947</td>\n",
       "      <td>0.006371</td>\n",
       "    </tr>\n",
       "    <tr>\n",
       "      <th>2</th>\n",
       "      <td>-0.763813</td>\n",
       "      <td>0.007165</td>\n",
       "      <td>-0.308898</td>\n",
       "      <td>0.186043</td>\n",
       "      <td>0.085445</td>\n",
       "      <td>-0.062637</td>\n",
       "    </tr>\n",
       "    <tr>\n",
       "      <th>3</th>\n",
       "      <td>-0.713482</td>\n",
       "      <td>0.051812</td>\n",
       "      <td>-0.422346</td>\n",
       "      <td>0.187277</td>\n",
       "      <td>0.054852</td>\n",
       "      <td>-0.047211</td>\n",
       "    </tr>\n",
       "    <tr>\n",
       "      <th>4</th>\n",
       "      <td>-0.787903</td>\n",
       "      <td>-0.131853</td>\n",
       "      <td>0.258047</td>\n",
       "      <td>-0.015065</td>\n",
       "      <td>0.058494</td>\n",
       "      <td>-0.052876</td>\n",
       "    </tr>\n",
       "  </tbody>\n",
       "</table>\n",
       "</div>"
      ],
      "text/plain": [
       "          0         1         2         3         4         5\n",
       "0 -0.798968 -0.099666  0.174948  0.051330  0.070914 -0.037973\n",
       "1 -0.674393  0.104370 -0.435307  0.181854  0.027947  0.006371\n",
       "2 -0.763813  0.007165 -0.308898  0.186043  0.085445 -0.062637\n",
       "3 -0.713482  0.051812 -0.422346  0.187277  0.054852 -0.047211\n",
       "4 -0.787903 -0.131853  0.258047 -0.015065  0.058494 -0.052876"
      ]
     },
     "execution_count": 11,
     "metadata": {},
     "output_type": "execute_result"
    }
   ],
   "source": [
    "kpca_components, kpca = perform_kernel_pca(data, number_of_components=6)\n",
    "print(kpca_components.shape)\n",
    "kpca_components.head()"
   ]
  },
  {
   "cell_type": "code",
   "execution_count": 12,
   "metadata": {},
   "outputs": [
    {
     "data": {
      "image/png": "[encoded data removed]",
      "text/plain": [
       "<Figure size 432x288 with 1 Axes>"
      ]
     },
     "metadata": {},
     "output_type": "display_data"
    }
   ],
   "source": [
    "# %matplotlib notebook\n",
    "colors_dict = {\n",
    "    'Iris-setosa': 'red',\n",
    "    'Iris-versicolor': 'blue',\n",
    "    'Iris-virginica': 'yellow'\n",
    "}\n",
    "\n",
    "colors = [colors_dict[c] for c in df['class']]\n",
    "\n",
    "plot_setting = {\n",
    "    's': 12,\n",
    "    'c': colors\n",
    "}\n",
    "plot_pca(components=kpca_components, dims=2, plot_kwargs=plot_setting)"
   ]
  },
  {
   "cell_type": "code",
   "execution_count": 13,
   "metadata": {},
   "outputs": [],
   "source": [
    "def display_scree_plot(values, number_of_components=None, percentage=False):\n",
    "    \n",
    "    total = sum(values)\n",
    "    bar_heights = values[:number_of_components]\n",
    "    \n",
    "    if percentage:\n",
    "        bar_heights = list(map(lambda x: x * 100 / total, bar_heights))\n",
    "        plt.ylabel(\"[%]\")\n",
    "\n",
    "    bar_x_coordinates = np.array(range(len(bar_heights)))\n",
    "    labels = ['PC ' + str(i) for i in range(1, len(bar_heights) + 1)]\n",
    "    \n",
    "    plt.bar(bar_x_coordinates, bar_heights, tick_label=labels)\n",
    "    plt.show()\n",
    "    return"
   ]
  },
  {
   "cell_type": "code",
   "execution_count": 14,
   "metadata": {},
   "outputs": [
    {
     "data": {
      "image/png": "[encoded data removed]",
      "text/plain": [
       "<Figure size 432x288 with 1 Axes>"
      ]
     },
     "metadata": {},
     "output_type": "display_data"
    }
   ],
   "source": [
    "display_scree_plot(pca.explained_variance_, number_of_components=None, percentage=True)"
   ]
  },
  {
   "cell_type": "code",
   "execution_count": 15,
   "metadata": {},
   "outputs": [
    {
     "data": {
      "image/png": "[encoded data removed]",
      "text/plain": [
       "<Figure size 432x288 with 1 Axes>"
      ]
     },
     "metadata": {},
     "output_type": "display_data"
    }
   ],
   "source": [
    "display_scree_plot(kpca.lambdas_, number_of_components=None, percentage=True)"
   ]
  },
  {
   "cell_type": "code",
   "execution_count": 18,
   "metadata": {},
   "outputs": [],
   "source": [
    "def knn_stats(samples, labels, n_neighbours):\n",
    "    '''Calculates the percentage of neighbours that belong to the same class for each sample.'''\n",
    "    \n",
    "    nbrs = NearestNeighbors(n_neighbours, algorithm='brute').fit(samples)\n",
    "    distances, indices = nbrs.kneighbors(samples)\n",
    "    \n",
    "    neighbour_stats = []\n",
    "    \n",
    "    for index, neighbours in enumerate(indices):\n",
    "        same_cluster_neighbours = filter(\n",
    "            lambda neighbour: labels[neighbour] == labels[index],\n",
    "            neighbours\n",
    "        )\n",
    "        neighbour_stats.append(len(list(same_cluster_neighbours)) / n_neighbours)\n",
    "        \n",
    "    return neighbour_stats"
   ]
  },
  {
   "cell_type": "code",
   "execution_count": 24,
   "metadata": {},
   "outputs": [
    {
     "name": "stdout",
     "output_type": "stream",
     "text": [
      "scaled original data:  0.9426666666666665\n"
     ]
    }
   ],
   "source": [
    "scaler = StandardScaler()\n",
    "scaled_data = scaler.fit_transform(data)\n",
    "\n",
    "stats = knn_stats(scaled_data, df['class'], 5)\n",
    "print('scaled original data: ', np.mean(stats))"
   ]
  },
  {
   "cell_type": "code",
   "execution_count": 23,
   "metadata": {},
   "outputs": [
    {
     "name": "stdout",
     "output_type": "stream",
     "text": [
      "pca:  0.9053333333333334\n",
      "kpca:  0.852\n"
     ]
    }
   ],
   "source": [
    "stats = knn_stats(pca_components.iloc[:, :2], df['class'], 5)\n",
    "print('pca: ', np.mean(stats))\n",
    "\n",
    "stats = knn_stats(kpca_components.iloc[:, :2], df['class'], 5)\n",
    "print('kpca: ', np.mean(stats))"
   ]
  }
 ],
 "metadata": {
  "kernelspec": {
   "display_name": "Python 3",
   "language": "python",
   "name": "python3"
  },
  "language_info": {
   "codemirror_mode": {
    "name": "ipython",
    "version": 3
   },
   "file_extension": ".py",
   "mimetype": "text/x-python",
   "name": "python",
   "nbconvert_exporter": "python",
   "pygments_lexer": "ipython3",
   "version": "3.6.7"
  }
 },
 "nbformat": 4,
 "nbformat_minor": 2
}
