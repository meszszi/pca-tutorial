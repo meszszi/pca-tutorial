{
 "cells": [
  {
   "cell_type": "code",
   "execution_count": 1,
   "metadata": {},
   "outputs": [],
   "source": [
    "import pandas as pd\n",
    "import numpy as np\n",
    "import matplotlib.pyplot as plt\n",
    "import warnings\n",
    "from mpl_toolkits import mplot3d\n",
    "from sklearn.decomposition import PCA, KernelPCA\n",
    "from sklearn.preprocessing import StandardScaler\n",
    "from sklearn.neighbors import NearestNeighbors"
   ]
  },
  {
   "cell_type": "markdown",
   "metadata": {},
   "source": [
    "Dataset source:\n",
    "\n",
    "https://archive.ics.uci.edu/ml/datasets/breast+cancer+wisconsin+(original)\n",
    "\n",
    "Full dataset description can be found here:\n",
    "\n",
    "https://archive.ics.uci.edu/ml/machine-learning-databases/breast-cancer-wisconsin/breast-cancer-wisconsin.names\n",
    "\n",
    "#  Attribute                     Domain\n",
    "-- -----------------------------------------\n",
    "1. Sample code number:           id number\n",
    "2. Clump Thickness:              1 - 10\n",
    "3. Uniformity of Cell Size:      1 - 10\n",
    "4. Uniformity of Cell Shape:     1 - 10\n",
    "5. Marginal Adhesion:            1 - 10\n",
    "6. Single Epithelial Cell Size:  1 - 10\n",
    "7. Bare Nuclei:                  1 - 10\n",
    "8. Bland Chromatin:              1 - 10\n",
    "9. Normal Nucleoli:              1 - 10\n",
    "10. Mitoses:                     1 - 10\n",
    "11. Class:                       (2 for benign, 4 for malignant)"
   ]
  },
  {
   "cell_type": "code",
   "execution_count": 2,
   "metadata": {},
   "outputs": [
    {
     "data": {
      "text/html": [
       "<div>\n",
       "<style scoped>\n",
       "    .dataframe tbody tr th:only-of-type {\n",
       "        vertical-align: middle;\n",
       "    }\n",
       "\n",
       "    .dataframe tbody tr th {\n",
       "        vertical-align: top;\n",
       "    }\n",
       "\n",
       "    .dataframe thead th {\n",
       "        text-align: right;\n",
       "    }\n",
       "</style>\n",
       "<table border=\"1\" class=\"dataframe\">\n",
       "  <thead>\n",
       "    <tr style=\"text-align: right;\">\n",
       "      <th></th>\n",
       "      <th>thickness</th>\n",
       "      <th>UO cell size</th>\n",
       "      <th>UO cell shape</th>\n",
       "      <th>adhesion</th>\n",
       "      <th>SE cell size</th>\n",
       "      <th>nuclei</th>\n",
       "      <th>chromatin</th>\n",
       "      <th>nucleoli</th>\n",
       "      <th>mitoses</th>\n",
       "      <th>class</th>\n",
       "    </tr>\n",
       "  </thead>\n",
       "  <tbody>\n",
       "    <tr>\n",
       "      <th>1000025</th>\n",
       "      <td>5</td>\n",
       "      <td>1</td>\n",
       "      <td>1</td>\n",
       "      <td>1</td>\n",
       "      <td>2</td>\n",
       "      <td>1</td>\n",
       "      <td>3</td>\n",
       "      <td>1</td>\n",
       "      <td>1</td>\n",
       "      <td>2</td>\n",
       "    </tr>\n",
       "    <tr>\n",
       "      <th>1002945</th>\n",
       "      <td>5</td>\n",
       "      <td>4</td>\n",
       "      <td>4</td>\n",
       "      <td>5</td>\n",
       "      <td>7</td>\n",
       "      <td>10</td>\n",
       "      <td>3</td>\n",
       "      <td>2</td>\n",
       "      <td>1</td>\n",
       "      <td>2</td>\n",
       "    </tr>\n",
       "    <tr>\n",
       "      <th>1015425</th>\n",
       "      <td>3</td>\n",
       "      <td>1</td>\n",
       "      <td>1</td>\n",
       "      <td>1</td>\n",
       "      <td>2</td>\n",
       "      <td>2</td>\n",
       "      <td>3</td>\n",
       "      <td>1</td>\n",
       "      <td>1</td>\n",
       "      <td>2</td>\n",
       "    </tr>\n",
       "    <tr>\n",
       "      <th>1016277</th>\n",
       "      <td>6</td>\n",
       "      <td>8</td>\n",
       "      <td>8</td>\n",
       "      <td>1</td>\n",
       "      <td>3</td>\n",
       "      <td>4</td>\n",
       "      <td>3</td>\n",
       "      <td>7</td>\n",
       "      <td>1</td>\n",
       "      <td>2</td>\n",
       "    </tr>\n",
       "    <tr>\n",
       "      <th>1017023</th>\n",
       "      <td>4</td>\n",
       "      <td>1</td>\n",
       "      <td>1</td>\n",
       "      <td>3</td>\n",
       "      <td>2</td>\n",
       "      <td>1</td>\n",
       "      <td>3</td>\n",
       "      <td>1</td>\n",
       "      <td>1</td>\n",
       "      <td>2</td>\n",
       "    </tr>\n",
       "  </tbody>\n",
       "</table>\n",
       "</div>"
      ],
      "text/plain": [
       "         thickness  UO cell size  UO cell shape  adhesion  SE cell size  \\\n",
       "1000025          5             1              1         1             2   \n",
       "1002945          5             4              4         5             7   \n",
       "1015425          3             1              1         1             2   \n",
       "1016277          6             8              8         1             3   \n",
       "1017023          4             1              1         3             2   \n",
       "\n",
       "        nuclei  chromatin  nucleoli  mitoses  class  \n",
       "1000025      1          3         1        1      2  \n",
       "1002945     10          3         2        1      2  \n",
       "1015425      2          3         1        1      2  \n",
       "1016277      4          3         7        1      2  \n",
       "1017023      1          3         1        1      2  "
      ]
     },
     "execution_count": 2,
     "metadata": {},
     "output_type": "execute_result"
    }
   ],
   "source": [
    "names = ['thickness', 'UO cell size', 'UO cell shape', 'adhesion', 'SE cell size',\n",
    "        'nuclei', 'chromatin', 'nucleoli', 'mitoses', 'class']\n",
    "df = pd.read_csv('breast-cancer.csv', names=names, delimiter=',')\n",
    "df.head()"
   ]
  },
  {
   "cell_type": "code",
   "execution_count": 3,
   "metadata": {},
   "outputs": [
    {
     "name": "stdout",
     "output_type": "stream",
     "text": [
      "(699, 10)\n"
     ]
    },
    {
     "data": {
      "text/plain": [
       "thickness         int64\n",
       "UO cell size      int64\n",
       "UO cell shape     int64\n",
       "adhesion          int64\n",
       "SE cell size      int64\n",
       "nuclei           object\n",
       "chromatin         int64\n",
       "nucleoli          int64\n",
       "mitoses           int64\n",
       "class             int64\n",
       "dtype: object"
      ]
     },
     "execution_count": 3,
     "metadata": {},
     "output_type": "execute_result"
    }
   ],
   "source": [
    "print(df.shape)\n",
    "df.dtypes"
   ]
  },
  {
   "cell_type": "code",
   "execution_count": 4,
   "metadata": {},
   "outputs": [
    {
     "data": {
      "text/html": [
       "<div>\n",
       "<style scoped>\n",
       "    .dataframe tbody tr th:only-of-type {\n",
       "        vertical-align: middle;\n",
       "    }\n",
       "\n",
       "    .dataframe tbody tr th {\n",
       "        vertical-align: top;\n",
       "    }\n",
       "\n",
       "    .dataframe thead th {\n",
       "        text-align: right;\n",
       "    }\n",
       "</style>\n",
       "<table border=\"1\" class=\"dataframe\">\n",
       "  <thead>\n",
       "    <tr style=\"text-align: right;\">\n",
       "      <th></th>\n",
       "      <th>thickness</th>\n",
       "      <th>UO cell size</th>\n",
       "      <th>UO cell shape</th>\n",
       "      <th>adhesion</th>\n",
       "      <th>SE cell size</th>\n",
       "      <th>nuclei</th>\n",
       "      <th>chromatin</th>\n",
       "      <th>nucleoli</th>\n",
       "      <th>mitoses</th>\n",
       "      <th>class</th>\n",
       "    </tr>\n",
       "  </thead>\n",
       "  <tbody>\n",
       "    <tr>\n",
       "      <th>1057013</th>\n",
       "      <td>8</td>\n",
       "      <td>4</td>\n",
       "      <td>5</td>\n",
       "      <td>1</td>\n",
       "      <td>2</td>\n",
       "      <td>?</td>\n",
       "      <td>7</td>\n",
       "      <td>3</td>\n",
       "      <td>1</td>\n",
       "      <td>4</td>\n",
       "    </tr>\n",
       "    <tr>\n",
       "      <th>1096800</th>\n",
       "      <td>6</td>\n",
       "      <td>6</td>\n",
       "      <td>6</td>\n",
       "      <td>9</td>\n",
       "      <td>6</td>\n",
       "      <td>?</td>\n",
       "      <td>7</td>\n",
       "      <td>8</td>\n",
       "      <td>1</td>\n",
       "      <td>2</td>\n",
       "    </tr>\n",
       "    <tr>\n",
       "      <th>1183246</th>\n",
       "      <td>1</td>\n",
       "      <td>1</td>\n",
       "      <td>1</td>\n",
       "      <td>1</td>\n",
       "      <td>1</td>\n",
       "      <td>?</td>\n",
       "      <td>2</td>\n",
       "      <td>1</td>\n",
       "      <td>1</td>\n",
       "      <td>2</td>\n",
       "    </tr>\n",
       "    <tr>\n",
       "      <th>1184840</th>\n",
       "      <td>1</td>\n",
       "      <td>1</td>\n",
       "      <td>3</td>\n",
       "      <td>1</td>\n",
       "      <td>2</td>\n",
       "      <td>?</td>\n",
       "      <td>2</td>\n",
       "      <td>1</td>\n",
       "      <td>1</td>\n",
       "      <td>2</td>\n",
       "    </tr>\n",
       "    <tr>\n",
       "      <th>1193683</th>\n",
       "      <td>1</td>\n",
       "      <td>1</td>\n",
       "      <td>2</td>\n",
       "      <td>1</td>\n",
       "      <td>3</td>\n",
       "      <td>?</td>\n",
       "      <td>1</td>\n",
       "      <td>1</td>\n",
       "      <td>1</td>\n",
       "      <td>2</td>\n",
       "    </tr>\n",
       "    <tr>\n",
       "      <th>1197510</th>\n",
       "      <td>5</td>\n",
       "      <td>1</td>\n",
       "      <td>1</td>\n",
       "      <td>1</td>\n",
       "      <td>2</td>\n",
       "      <td>?</td>\n",
       "      <td>3</td>\n",
       "      <td>1</td>\n",
       "      <td>1</td>\n",
       "      <td>2</td>\n",
       "    </tr>\n",
       "    <tr>\n",
       "      <th>1241232</th>\n",
       "      <td>3</td>\n",
       "      <td>1</td>\n",
       "      <td>4</td>\n",
       "      <td>1</td>\n",
       "      <td>2</td>\n",
       "      <td>?</td>\n",
       "      <td>3</td>\n",
       "      <td>1</td>\n",
       "      <td>1</td>\n",
       "      <td>2</td>\n",
       "    </tr>\n",
       "    <tr>\n",
       "      <th>169356</th>\n",
       "      <td>3</td>\n",
       "      <td>1</td>\n",
       "      <td>1</td>\n",
       "      <td>1</td>\n",
       "      <td>2</td>\n",
       "      <td>?</td>\n",
       "      <td>3</td>\n",
       "      <td>1</td>\n",
       "      <td>1</td>\n",
       "      <td>2</td>\n",
       "    </tr>\n",
       "    <tr>\n",
       "      <th>432809</th>\n",
       "      <td>3</td>\n",
       "      <td>1</td>\n",
       "      <td>3</td>\n",
       "      <td>1</td>\n",
       "      <td>2</td>\n",
       "      <td>?</td>\n",
       "      <td>2</td>\n",
       "      <td>1</td>\n",
       "      <td>1</td>\n",
       "      <td>2</td>\n",
       "    </tr>\n",
       "    <tr>\n",
       "      <th>563649</th>\n",
       "      <td>8</td>\n",
       "      <td>8</td>\n",
       "      <td>8</td>\n",
       "      <td>1</td>\n",
       "      <td>2</td>\n",
       "      <td>?</td>\n",
       "      <td>6</td>\n",
       "      <td>10</td>\n",
       "      <td>1</td>\n",
       "      <td>4</td>\n",
       "    </tr>\n",
       "    <tr>\n",
       "      <th>606140</th>\n",
       "      <td>1</td>\n",
       "      <td>1</td>\n",
       "      <td>1</td>\n",
       "      <td>1</td>\n",
       "      <td>2</td>\n",
       "      <td>?</td>\n",
       "      <td>2</td>\n",
       "      <td>1</td>\n",
       "      <td>1</td>\n",
       "      <td>2</td>\n",
       "    </tr>\n",
       "    <tr>\n",
       "      <th>61634</th>\n",
       "      <td>5</td>\n",
       "      <td>4</td>\n",
       "      <td>3</td>\n",
       "      <td>1</td>\n",
       "      <td>2</td>\n",
       "      <td>?</td>\n",
       "      <td>2</td>\n",
       "      <td>3</td>\n",
       "      <td>1</td>\n",
       "      <td>2</td>\n",
       "    </tr>\n",
       "    <tr>\n",
       "      <th>704168</th>\n",
       "      <td>4</td>\n",
       "      <td>6</td>\n",
       "      <td>5</td>\n",
       "      <td>6</td>\n",
       "      <td>7</td>\n",
       "      <td>?</td>\n",
       "      <td>4</td>\n",
       "      <td>9</td>\n",
       "      <td>1</td>\n",
       "      <td>2</td>\n",
       "    </tr>\n",
       "    <tr>\n",
       "      <th>733639</th>\n",
       "      <td>3</td>\n",
       "      <td>1</td>\n",
       "      <td>1</td>\n",
       "      <td>1</td>\n",
       "      <td>2</td>\n",
       "      <td>?</td>\n",
       "      <td>3</td>\n",
       "      <td>1</td>\n",
       "      <td>1</td>\n",
       "      <td>2</td>\n",
       "    </tr>\n",
       "    <tr>\n",
       "      <th>1238464</th>\n",
       "      <td>1</td>\n",
       "      <td>1</td>\n",
       "      <td>1</td>\n",
       "      <td>1</td>\n",
       "      <td>1</td>\n",
       "      <td>?</td>\n",
       "      <td>2</td>\n",
       "      <td>1</td>\n",
       "      <td>1</td>\n",
       "      <td>2</td>\n",
       "    </tr>\n",
       "    <tr>\n",
       "      <th>1057067</th>\n",
       "      <td>1</td>\n",
       "      <td>1</td>\n",
       "      <td>1</td>\n",
       "      <td>1</td>\n",
       "      <td>1</td>\n",
       "      <td>?</td>\n",
       "      <td>1</td>\n",
       "      <td>1</td>\n",
       "      <td>1</td>\n",
       "      <td>2</td>\n",
       "    </tr>\n",
       "  </tbody>\n",
       "</table>\n",
       "</div>"
      ],
      "text/plain": [
       "         thickness  UO cell size  UO cell shape  adhesion  SE cell size  \\\n",
       "1057013          8             4              5         1             2   \n",
       "1096800          6             6              6         9             6   \n",
       "1183246          1             1              1         1             1   \n",
       "1184840          1             1              3         1             2   \n",
       "1193683          1             1              2         1             3   \n",
       "1197510          5             1              1         1             2   \n",
       "1241232          3             1              4         1             2   \n",
       "169356           3             1              1         1             2   \n",
       "432809           3             1              3         1             2   \n",
       "563649           8             8              8         1             2   \n",
       "606140           1             1              1         1             2   \n",
       "61634            5             4              3         1             2   \n",
       "704168           4             6              5         6             7   \n",
       "733639           3             1              1         1             2   \n",
       "1238464          1             1              1         1             1   \n",
       "1057067          1             1              1         1             1   \n",
       "\n",
       "        nuclei  chromatin  nucleoli  mitoses  class  \n",
       "1057013      ?          7         3        1      4  \n",
       "1096800      ?          7         8        1      2  \n",
       "1183246      ?          2         1        1      2  \n",
       "1184840      ?          2         1        1      2  \n",
       "1193683      ?          1         1        1      2  \n",
       "1197510      ?          3         1        1      2  \n",
       "1241232      ?          3         1        1      2  \n",
       "169356       ?          3         1        1      2  \n",
       "432809       ?          2         1        1      2  \n",
       "563649       ?          6        10        1      4  \n",
       "606140       ?          2         1        1      2  \n",
       "61634        ?          2         3        1      2  \n",
       "704168       ?          4         9        1      2  \n",
       "733639       ?          3         1        1      2  \n",
       "1238464      ?          2         1        1      2  \n",
       "1057067      ?          1         1        1      2  "
      ]
     },
     "execution_count": 4,
     "metadata": {},
     "output_type": "execute_result"
    }
   ],
   "source": [
    "df[df['nuclei'] == '?']"
   ]
  },
  {
   "cell_type": "code",
   "execution_count": 5,
   "metadata": {},
   "outputs": [
    {
     "name": "stdout",
     "output_type": "stream",
     "text": [
      "(683, 10)\n"
     ]
    },
    {
     "data": {
      "text/plain": [
       "thickness        int64\n",
       "UO cell size     int64\n",
       "UO cell shape    int64\n",
       "adhesion         int64\n",
       "SE cell size     int64\n",
       "nuclei           int64\n",
       "chromatin        int64\n",
       "nucleoli         int64\n",
       "mitoses          int64\n",
       "class            int64\n",
       "dtype: object"
      ]
     },
     "execution_count": 5,
     "metadata": {},
     "output_type": "execute_result"
    }
   ],
   "source": [
    "filtered = df.loc[df['nuclei'] != '?'] # getting rid of troublesome rows\n",
    "filtered = filtered.astype(int)\n",
    "print(filtered.shape)\n",
    "filtered.dtypes"
   ]
  },
  {
   "cell_type": "code",
   "execution_count": 6,
   "metadata": {},
   "outputs": [],
   "source": [
    "# preparing data\n",
    "data_df = filtered.iloc[:, :9]\n",
    "class_list = filtered.iloc[:, 9].tolist()\n",
    "colors = ['blue' if cl == 2 else 'red' for cl in class_list]\n"
   ]
  },
  {
   "cell_type": "code",
   "execution_count": 7,
   "metadata": {},
   "outputs": [],
   "source": [
    "def perform_pca(data, number_of_components, scale=False):\n",
    "    \n",
    "    if scale:\n",
    "        scaler = StandardScaler()\n",
    "        data = scaler.fit_transform(data)\n",
    "\n",
    "    pca = PCA(n_components=number_of_components)\n",
    "    components = pca.fit_transform(data)\n",
    "    components_dataframe = pd.DataFrame(data=components)\n",
    "    \n",
    "    return components_dataframe, pca\n",
    "\n",
    "def perform_kernel_pca(data, number_of_components, scale=False, gamma=None):\n",
    "    \n",
    "    if scale:\n",
    "        scaler = StandardScaler()\n",
    "        data = scaler.fit_transform(data)\n",
    "\n",
    "    kpca = KernelPCA(kernel=\"rbf\", n_components=number_of_components, gamma=gamma)\n",
    "    components = kpca.fit_transform(data)\n",
    "    components_dataframe = pd.DataFrame(data=components)\n",
    "    \n",
    "    return components_dataframe, kpca\n",
    "\n",
    "def plot_pca(components, dims, plot_kwargs={}):\n",
    "\n",
    "    if dims == 2:\n",
    "        plt.scatter(components[0], components[1], **plot_kwargs)\n",
    "        plt.xlabel(\"PC 1\")\n",
    "        plt.ylabel(\"PC 2\")  \n",
    "        plt.show()\n",
    "    \n",
    "    elif dims == 3:\n",
    "        ax = plt.axes(projection='3d')\n",
    "        ax.scatter3D(components[0], components[1], components[2], **plot_kwargs);\n",
    "        ax.set_xlabel('PC 1')\n",
    "        ax.set_ylabel('PC 2')\n",
    "        ax.set_zlabel('PC 3')\n",
    "        plt.show()\n",
    "        "
   ]
  },
  {
   "cell_type": "code",
   "execution_count": 8,
   "metadata": {},
   "outputs": [
    {
     "name": "stdout",
     "output_type": "stream",
     "text": [
      "(683, 9)\n"
     ]
    },
    {
     "name": "stderr",
     "output_type": "stream",
     "text": [
      "/home/jakub/anaconda3/lib/python3.7/site-packages/sklearn/preprocessing/data.py:625: DataConversionWarning: Data with input dtype int64 were all converted to float64 by StandardScaler.\n",
      "  return self.partial_fit(X, y)\n",
      "/home/jakub/anaconda3/lib/python3.7/site-packages/sklearn/base.py:462: DataConversionWarning: Data with input dtype int64 were all converted to float64 by StandardScaler.\n",
      "  return self.fit(X, **fit_params).transform(X)\n"
     ]
    },
    {
     "data": {
      "text/html": [
       "<div>\n",
       "<style scoped>\n",
       "    .dataframe tbody tr th:only-of-type {\n",
       "        vertical-align: middle;\n",
       "    }\n",
       "\n",
       "    .dataframe tbody tr th {\n",
       "        vertical-align: top;\n",
       "    }\n",
       "\n",
       "    .dataframe thead th {\n",
       "        text-align: right;\n",
       "    }\n",
       "</style>\n",
       "<table border=\"1\" class=\"dataframe\">\n",
       "  <thead>\n",
       "    <tr style=\"text-align: right;\">\n",
       "      <th></th>\n",
       "      <th>0</th>\n",
       "      <th>1</th>\n",
       "      <th>2</th>\n",
       "      <th>3</th>\n",
       "      <th>4</th>\n",
       "      <th>5</th>\n",
       "      <th>6</th>\n",
       "      <th>7</th>\n",
       "      <th>8</th>\n",
       "    </tr>\n",
       "  </thead>\n",
       "  <tbody>\n",
       "    <tr>\n",
       "      <th>0</th>\n",
       "      <td>-1.470171</td>\n",
       "      <td>-0.104273</td>\n",
       "      <td>-0.565685</td>\n",
       "      <td>-0.031959</td>\n",
       "      <td>-0.150998</td>\n",
       "      <td>0.060021</td>\n",
       "      <td>0.349403</td>\n",
       "      <td>0.420344</td>\n",
       "      <td>-0.005691</td>\n",
       "    </tr>\n",
       "    <tr>\n",
       "      <th>1</th>\n",
       "      <td>1.442046</td>\n",
       "      <td>-0.570141</td>\n",
       "      <td>0.236601</td>\n",
       "      <td>-0.478150</td>\n",
       "      <td>1.643085</td>\n",
       "      <td>-0.483035</td>\n",
       "      <td>-1.115899</td>\n",
       "      <td>0.379577</td>\n",
       "      <td>0.023427</td>\n",
       "    </tr>\n",
       "    <tr>\n",
       "      <th>2</th>\n",
       "      <td>-1.592478</td>\n",
       "      <td>-0.076120</td>\n",
       "      <td>0.048858</td>\n",
       "      <td>-0.092388</td>\n",
       "      <td>-0.059739</td>\n",
       "      <td>-0.279371</td>\n",
       "      <td>0.232740</td>\n",
       "      <td>0.209800</td>\n",
       "      <td>0.013372</td>\n",
       "    </tr>\n",
       "    <tr>\n",
       "      <th>3</th>\n",
       "      <td>1.479812</td>\n",
       "      <td>-0.528452</td>\n",
       "      <td>-0.603048</td>\n",
       "      <td>1.410827</td>\n",
       "      <td>-0.560737</td>\n",
       "      <td>0.063028</td>\n",
       "      <td>-0.211115</td>\n",
       "      <td>-1.607095</td>\n",
       "      <td>0.182777</td>\n",
       "    </tr>\n",
       "    <tr>\n",
       "      <th>4</th>\n",
       "      <td>-1.344862</td>\n",
       "      <td>-0.090719</td>\n",
       "      <td>0.029997</td>\n",
       "      <td>-0.338284</td>\n",
       "      <td>-0.108829</td>\n",
       "      <td>0.431370</td>\n",
       "      <td>0.259862</td>\n",
       "      <td>0.446655</td>\n",
       "      <td>-0.038820</td>\n",
       "    </tr>\n",
       "  </tbody>\n",
       "</table>\n",
       "</div>"
      ],
      "text/plain": [
       "          0         1         2         3         4         5         6  \\\n",
       "0 -1.470171 -0.104273 -0.565685 -0.031959 -0.150998  0.060021  0.349403   \n",
       "1  1.442046 -0.570141  0.236601 -0.478150  1.643085 -0.483035 -1.115899   \n",
       "2 -1.592478 -0.076120  0.048858 -0.092388 -0.059739 -0.279371  0.232740   \n",
       "3  1.479812 -0.528452 -0.603048  1.410827 -0.560737  0.063028 -0.211115   \n",
       "4 -1.344862 -0.090719  0.029997 -0.338284 -0.108829  0.431370  0.259862   \n",
       "\n",
       "          7         8  \n",
       "0  0.420344 -0.005691  \n",
       "1  0.379577  0.023427  \n",
       "2  0.209800  0.013372  \n",
       "3 -1.607095  0.182777  \n",
       "4  0.446655 -0.038820  "
      ]
     },
     "execution_count": 8,
     "metadata": {},
     "output_type": "execute_result"
    }
   ],
   "source": [
    "pca_components, pca = perform_pca(data_df, number_of_components=None, scale=True)\n",
    "print(pca_components.shape)\n",
    "pca_components.head()"
   ]
  },
  {
   "cell_type": "code",
   "execution_count": 9,
   "metadata": {},
   "outputs": [
    {
     "data": {
      "image/png": "[encoded data removed]",
      "text/plain": [
       "<Figure size 432x288 with 1 Axes>"
      ]
     },
     "metadata": {
      "needs_background": "light"
     },
     "output_type": "display_data"
    },
    {
     "data": {
      "image/png": "[encoded data removed]",
      "text/plain": [
       "<Figure size 432x288 with 1 Axes>"
      ]
     },
     "metadata": {
      "needs_background": "light"
     },
     "output_type": "display_data"
    }
   ],
   "source": [
    "plot_setting = {\n",
    "    's': 3,\n",
    "    'c': colors\n",
    "}\n",
    "plot_pca(components=pca_components, dims=2, plot_kwargs=plot_setting)\n",
    "plot_pca(components=pca_components, dims=3, plot_kwargs=plot_setting)"
   ]
  },
  {
   "cell_type": "code",
   "execution_count": 10,
   "metadata": {},
   "outputs": [
    {
     "name": "stdout",
     "output_type": "stream",
     "text": [
      "(683, 607)\n"
     ]
    },
    {
     "name": "stderr",
     "output_type": "stream",
     "text": [
      "/home/jakub/anaconda3/lib/python3.7/site-packages/sklearn/preprocessing/data.py:625: DataConversionWarning: Data with input dtype int64 were all converted to float64 by StandardScaler.\n",
      "  return self.partial_fit(X, y)\n",
      "/home/jakub/anaconda3/lib/python3.7/site-packages/sklearn/base.py:462: DataConversionWarning: Data with input dtype int64 were all converted to float64 by StandardScaler.\n",
      "  return self.fit(X, **fit_params).transform(X)\n"
     ]
    },
    {
     "data": {
      "text/html": [
       "<div>\n",
       "<style scoped>\n",
       "    .dataframe tbody tr th:only-of-type {\n",
       "        vertical-align: middle;\n",
       "    }\n",
       "\n",
       "    .dataframe tbody tr th {\n",
       "        vertical-align: top;\n",
       "    }\n",
       "\n",
       "    .dataframe thead th {\n",
       "        text-align: right;\n",
       "    }\n",
       "</style>\n",
       "<table border=\"1\" class=\"dataframe\">\n",
       "  <thead>\n",
       "    <tr style=\"text-align: right;\">\n",
       "      <th></th>\n",
       "      <th>0</th>\n",
       "      <th>1</th>\n",
       "      <th>2</th>\n",
       "      <th>3</th>\n",
       "      <th>4</th>\n",
       "      <th>5</th>\n",
       "      <th>6</th>\n",
       "      <th>7</th>\n",
       "      <th>8</th>\n",
       "      <th>9</th>\n",
       "      <th>...</th>\n",
       "      <th>597</th>\n",
       "      <th>598</th>\n",
       "      <th>599</th>\n",
       "      <th>600</th>\n",
       "      <th>601</th>\n",
       "      <th>602</th>\n",
       "      <th>603</th>\n",
       "      <th>604</th>\n",
       "      <th>605</th>\n",
       "      <th>606</th>\n",
       "    </tr>\n",
       "  </thead>\n",
       "  <tbody>\n",
       "    <tr>\n",
       "      <th>0</th>\n",
       "      <td>0.188176</td>\n",
       "      <td>-0.025938</td>\n",
       "      <td>-0.070768</td>\n",
       "      <td>0.003315</td>\n",
       "      <td>0.017659</td>\n",
       "      <td>0.022610</td>\n",
       "      <td>0.037851</td>\n",
       "      <td>0.058701</td>\n",
       "      <td>0.008110</td>\n",
       "      <td>-0.004992</td>\n",
       "      <td>...</td>\n",
       "      <td>0.000000e+00</td>\n",
       "      <td>0.000000e+00</td>\n",
       "      <td>0.000000e+00</td>\n",
       "      <td>0.000000e+00</td>\n",
       "      <td>0.000000e+00</td>\n",
       "      <td>0.000000e+00</td>\n",
       "      <td>0.000000e+00</td>\n",
       "      <td>0.000000e+00</td>\n",
       "      <td>0.000000e+00</td>\n",
       "      <td>0.000000e+00</td>\n",
       "    </tr>\n",
       "    <tr>\n",
       "      <th>1</th>\n",
       "      <td>-0.196020</td>\n",
       "      <td>-0.100979</td>\n",
       "      <td>0.022343</td>\n",
       "      <td>-0.093195</td>\n",
       "      <td>-0.199260</td>\n",
       "      <td>-0.110455</td>\n",
       "      <td>-0.153210</td>\n",
       "      <td>0.036235</td>\n",
       "      <td>-0.031269</td>\n",
       "      <td>-0.004610</td>\n",
       "      <td>...</td>\n",
       "      <td>-4.030108e-14</td>\n",
       "      <td>3.061036e-14</td>\n",
       "      <td>2.860639e-15</td>\n",
       "      <td>-6.050549e-14</td>\n",
       "      <td>-1.017568e-15</td>\n",
       "      <td>2.624433e-15</td>\n",
       "      <td>1.151908e-13</td>\n",
       "      <td>-4.946296e-14</td>\n",
       "      <td>3.050951e-14</td>\n",
       "      <td>-4.845400e-20</td>\n",
       "    </tr>\n",
       "    <tr>\n",
       "      <th>2</th>\n",
       "      <td>0.204297</td>\n",
       "      <td>-0.009534</td>\n",
       "      <td>0.007485</td>\n",
       "      <td>-0.011094</td>\n",
       "      <td>0.006799</td>\n",
       "      <td>-0.026647</td>\n",
       "      <td>0.037161</td>\n",
       "      <td>0.028826</td>\n",
       "      <td>0.004952</td>\n",
       "      <td>0.001144</td>\n",
       "      <td>...</td>\n",
       "      <td>-3.582138e-14</td>\n",
       "      <td>1.017717e-14</td>\n",
       "      <td>1.431686e-14</td>\n",
       "      <td>-7.281599e-14</td>\n",
       "      <td>3.974773e-15</td>\n",
       "      <td>2.013585e-14</td>\n",
       "      <td>1.204677e-13</td>\n",
       "      <td>-5.518246e-14</td>\n",
       "      <td>2.900826e-14</td>\n",
       "      <td>-4.227820e-20</td>\n",
       "    </tr>\n",
       "    <tr>\n",
       "      <th>3</th>\n",
       "      <td>-0.201393</td>\n",
       "      <td>-0.098427</td>\n",
       "      <td>-0.062744</td>\n",
       "      <td>0.200474</td>\n",
       "      <td>0.054304</td>\n",
       "      <td>-0.002083</td>\n",
       "      <td>-0.012855</td>\n",
       "      <td>-0.208076</td>\n",
       "      <td>-0.076540</td>\n",
       "      <td>0.008955</td>\n",
       "      <td>...</td>\n",
       "      <td>-4.028975e-14</td>\n",
       "      <td>3.055887e-14</td>\n",
       "      <td>2.853928e-15</td>\n",
       "      <td>-6.051548e-14</td>\n",
       "      <td>-1.012120e-15</td>\n",
       "      <td>2.629739e-15</td>\n",
       "      <td>1.151908e-13</td>\n",
       "      <td>-4.945780e-14</td>\n",
       "      <td>3.051259e-14</td>\n",
       "      <td>-4.846967e-20</td>\n",
       "    </tr>\n",
       "    <tr>\n",
       "      <th>4</th>\n",
       "      <td>0.175283</td>\n",
       "      <td>-0.018189</td>\n",
       "      <td>-0.002039</td>\n",
       "      <td>-0.039856</td>\n",
       "      <td>0.018191</td>\n",
       "      <td>0.056215</td>\n",
       "      <td>0.010141</td>\n",
       "      <td>0.061844</td>\n",
       "      <td>-0.017935</td>\n",
       "      <td>-0.008006</td>\n",
       "      <td>...</td>\n",
       "      <td>-3.100156e-12</td>\n",
       "      <td>1.418350e-11</td>\n",
       "      <td>-1.166246e-11</td>\n",
       "      <td>-1.056634e-11</td>\n",
       "      <td>2.197454e-11</td>\n",
       "      <td>2.196682e-11</td>\n",
       "      <td>3.004475e-11</td>\n",
       "      <td>-4.623909e-12</td>\n",
       "      <td>1.807444e-11</td>\n",
       "      <td>-2.567656e-17</td>\n",
       "    </tr>\n",
       "  </tbody>\n",
       "</table>\n",
       "<p>5 rows × 607 columns</p>\n",
       "</div>"
      ],
      "text/plain": [
       "        0         1         2         3         4         5         6    \\\n",
       "0  0.188176 -0.025938 -0.070768  0.003315  0.017659  0.022610  0.037851   \n",
       "1 -0.196020 -0.100979  0.022343 -0.093195 -0.199260 -0.110455 -0.153210   \n",
       "2  0.204297 -0.009534  0.007485 -0.011094  0.006799 -0.026647  0.037161   \n",
       "3 -0.201393 -0.098427 -0.062744  0.200474  0.054304 -0.002083 -0.012855   \n",
       "4  0.175283 -0.018189 -0.002039 -0.039856  0.018191  0.056215  0.010141   \n",
       "\n",
       "        7         8         9        ...                597           598  \\\n",
       "0  0.058701  0.008110 -0.004992      ...       0.000000e+00  0.000000e+00   \n",
       "1  0.036235 -0.031269 -0.004610      ...      -4.030108e-14  3.061036e-14   \n",
       "2  0.028826  0.004952  0.001144      ...      -3.582138e-14  1.017717e-14   \n",
       "3 -0.208076 -0.076540  0.008955      ...      -4.028975e-14  3.055887e-14   \n",
       "4  0.061844 -0.017935 -0.008006      ...      -3.100156e-12  1.418350e-11   \n",
       "\n",
       "            599           600           601           602           603  \\\n",
       "0  0.000000e+00  0.000000e+00  0.000000e+00  0.000000e+00  0.000000e+00   \n",
       "1  2.860639e-15 -6.050549e-14 -1.017568e-15  2.624433e-15  1.151908e-13   \n",
       "2  1.431686e-14 -7.281599e-14  3.974773e-15  2.013585e-14  1.204677e-13   \n",
       "3  2.853928e-15 -6.051548e-14 -1.012120e-15  2.629739e-15  1.151908e-13   \n",
       "4 -1.166246e-11 -1.056634e-11  2.197454e-11  2.196682e-11  3.004475e-11   \n",
       "\n",
       "            604           605           606  \n",
       "0  0.000000e+00  0.000000e+00  0.000000e+00  \n",
       "1 -4.946296e-14  3.050951e-14 -4.845400e-20  \n",
       "2 -5.518246e-14  2.900826e-14 -4.227820e-20  \n",
       "3 -4.945780e-14  3.051259e-14 -4.846967e-20  \n",
       "4 -4.623909e-12  1.807444e-11 -2.567656e-17  \n",
       "\n",
       "[5 rows x 607 columns]"
      ]
     },
     "execution_count": 10,
     "metadata": {},
     "output_type": "execute_result"
    }
   ],
   "source": [
    "kpca_components, kpca = perform_kernel_pca(data_df, number_of_components=None, scale=True, gamma=0.01)\n",
    "print(kpca_components.shape)\n",
    "kpca_components.head()"
   ]
  },
  {
   "cell_type": "code",
   "execution_count": 11,
   "metadata": {},
   "outputs": [
    {
     "data": {
      "image/png": "[encoded data removed]",
      "text/plain": [
       "<Figure size 432x288 with 1 Axes>"
      ]
     },
     "metadata": {
      "needs_background": "light"
     },
     "output_type": "display_data"
    },
    {
     "data": {
      "image/png": "[encoded data removed]",
      "text/plain": [
       "<Figure size 432x288 with 1 Axes>"
      ]
     },
     "metadata": {
      "needs_background": "light"
     },
     "output_type": "display_data"
    }
   ],
   "source": [
    "plot_setting = {\n",
    "    's': 3,\n",
    "    'c': colors\n",
    "}\n",
    "plot_pca(components=kpca_components, dims=2, plot_kwargs=plot_setting)\n",
    "plot_pca(components=kpca_components, dims=3, plot_kwargs=plot_setting)"
   ]
  },
  {
   "cell_type": "code",
   "execution_count": 12,
   "metadata": {},
   "outputs": [],
   "source": [
    "def display_scree_plot(values, number_of_components=None, percentage=False):\n",
    "    \n",
    "    total = sum(values)\n",
    "    bar_heights = values[:number_of_components]\n",
    "    \n",
    "    if percentage:\n",
    "        bar_heights = list(map(lambda x: x * 100 / total, bar_heights))\n",
    "        plt.ylabel(\"[%]\")\n",
    "\n",
    "    bar_x_coordinates = np.array(range(len(bar_heights)))\n",
    "    labels = ['PC ' + str(i) for i in range(1, len(bar_heights) + 1)]\n",
    "    \n",
    "    plt.bar(bar_x_coordinates, bar_heights, tick_label=labels)\n",
    "    plt.show()\n",
    "    return"
   ]
  },
  {
   "cell_type": "code",
   "execution_count": 13,
   "metadata": {},
   "outputs": [
    {
     "data": {
      "image/png": "[encoded data removed]",
      "text/plain": [
       "<Figure size 432x288 with 1 Axes>"
      ]
     },
     "metadata": {
      "needs_background": "light"
     },
     "output_type": "display_data"
    },
    {
     "data": {
      "image/png": "[encoded data removed]",
      "text/plain": [
       "<Figure size 432x288 with 1 Axes>"
      ]
     },
     "metadata": {
      "needs_background": "light"
     },
     "output_type": "display_data"
    }
   ],
   "source": [
    "display_scree_plot(pca.explained_variance_)\n",
    "display_scree_plot(pca.explained_variance_, percentage=True)"
   ]
  },
  {
   "cell_type": "code",
   "execution_count": 14,
   "metadata": {},
   "outputs": [
    {
     "data": {
      "image/png": "[encoded data removed]",
      "text/plain": [
       "<Figure size 432x288 with 1 Axes>"
      ]
     },
     "metadata": {
      "needs_background": "light"
     },
     "output_type": "display_data"
    },
    {
     "data": {
      "image/png": "[encoded data removed]",
      "text/plain": [
       "<Figure size 432x288 with 1 Axes>"
      ]
     },
     "metadata": {
      "needs_background": "light"
     },
     "output_type": "display_data"
    }
   ],
   "source": [
    "display_scree_plot(kpca.lambdas_, number_of_components=7)\n",
    "display_scree_plot(kpca.lambdas_, number_of_components=10, percentage=True)"
   ]
  },
  {
   "cell_type": "code",
   "execution_count": 15,
   "metadata": {},
   "outputs": [],
   "source": [
    "def knn_stats(samples, labels, n_neighbours):\n",
    "    '''Calculates the percentage of neighbours that belong to the same class for each sample.'''\n",
    "    \n",
    "    nbrs = NearestNeighbors(n_neighbours, algorithm='brute').fit(samples)\n",
    "    distances, indices = nbrs.kneighbors(samples)\n",
    "    \n",
    "    neighbour_stats = []\n",
    "    \n",
    "    for index, neighbours in enumerate(indices):\n",
    "        same_cluster_neighbours = filter(\n",
    "            lambda neighbour: labels[neighbour] == labels[index],\n",
    "            neighbours\n",
    "        )\n",
    "        neighbour_stats.append(len(list(same_cluster_neighbours)) / n_neighbours)\n",
    "        \n",
    "    return neighbour_stats"
   ]
  },
  {
   "cell_type": "code",
   "execution_count": 16,
   "metadata": {},
   "outputs": [
    {
     "data": {
      "text/plain": [
       "0.9674963396778917"
      ]
     },
     "execution_count": 16,
     "metadata": {},
     "output_type": "execute_result"
    }
   ],
   "source": [
    "stats = knn_stats(data_df, class_list, 5)\n",
    "stats = np.array(stats)\n",
    "np.mean(stats)"
   ]
  },
  {
   "cell_type": "code",
   "execution_count": 17,
   "metadata": {},
   "outputs": [
    {
     "name": "stdout",
     "output_type": "stream",
     "text": [
      "pca:  0.9657393850658859\n",
      "kpca:  0.9702293801854562\n"
     ]
    }
   ],
   "source": [
    "stats = knn_stats(pca_components, class_list, 5)\n",
    "print('pca: ', np.mean(stats))\n",
    "\n",
    "stats = knn_stats(kpca_components, class_list, 3)\n",
    "print('kpca: ', np.mean(stats))"
   ]
  },
  {
   "cell_type": "code",
   "execution_count": 18,
   "metadata": {},
   "outputs": [
    {
     "data": {
      "image/png": "[encoded data removed]",
      "text/plain": [
       "<Figure size 432x288 with 1 Axes>"
      ]
     },
     "metadata": {
      "needs_background": "light"
     },
     "output_type": "display_data"
    }
   ],
   "source": [
    "knn_metrics = []\n",
    "for k in range(2, 40):\n",
    "    knn_metrics.append(np.mean(knn_stats(pca_components, class_list, k)))\n",
    "\n",
    "plt.plot(range(2, 40), knn_metrics, '-o')\n",
    "plt.xlabel(\"number of neighbours taken into consideration\")\n",
    "plt.show()\n"
   ]
  },
  {
   "cell_type": "code",
   "execution_count": 19,
   "metadata": {},
   "outputs": [
    {
     "data": {
      "image/png": "[encoded data removed]",
      "text/plain": [
       "<Figure size 432x288 with 1 Axes>"
      ]
     },
     "metadata": {
      "needs_background": "light"
     },
     "output_type": "display_data"
    }
   ],
   "source": [
    "knn_metrics = []\n",
    "for k in range(2, 40):\n",
    "    knn_metrics.append(np.mean(knn_stats(kpca_components, class_list, k)))\n",
    "\n",
    "plt.plot(range(2, 40), knn_metrics, '-o')\n",
    "plt.xlabel(\"number of neighbours taken into consideration\")\n",
    "plt.show()\n"
   ]
  },
  {
   "cell_type": "code",
   "execution_count": null,
   "metadata": {},
   "outputs": [],
   "source": []
  }
 ],
 "metadata": {
  "kernelspec": {
   "display_name": "Python 3",
   "language": "python",
   "name": "python3"
  },
  "language_info": {
   "codemirror_mode": {
    "name": "ipython",
    "version": 3
   },
   "file_extension": ".py",
   "mimetype": "text/x-python",
   "name": "python",
   "nbconvert_exporter": "python",
   "pygments_lexer": "ipython3",
   "version": "3.7.1"
  }
 },
 "nbformat": 4,
 "nbformat_minor": 2
}
